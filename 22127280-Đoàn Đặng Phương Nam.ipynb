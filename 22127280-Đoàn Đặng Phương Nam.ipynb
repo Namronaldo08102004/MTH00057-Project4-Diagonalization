{
 "cells": [
  {
   "cell_type": "markdown",
   "metadata": {},
   "source": [
    "> **Họ và tên**: Đoàn Đặng Phương Nam <br> \n",
    "> **Lớp**: 22CLC02 <br>\n",
    "> **MSSV**: 22127280 <br>\n",
    "> **Môn học**: Toán ứng dụng và thống kê"
   ]
  },
  {
   "cell_type": "markdown",
   "metadata": {},
   "source": [
    "<center>\n",
    "\n",
    "### **ĐỒ ÁN CHÉO HOÁ MA TRẬN**\n",
    "\n",
    "</center>\n",
    "\n",
    "**Câu hỏi**\n",
    "\n",
    "**1\\) Trình bày giải thuật chéo hóa ma trận**\n",
    "\n",
    "**2\\) Chéo hóa ma trận**\n",
    "\n",
    "Sử dụng theo các chương trình đã thực hiện tại giờ Lab để viết thành 1 chương trình chéo hóa ma trận, với $A$ là ma trận vuông. Sinh viên có thể sử dụng các thư viện được giới thiệu như trong giờ Lab để hỗ trợ.\n",
    "\n",
    "**3\\) Kiểm tra kết quả câu 2**\n",
    "\n",
    "Sử dụng các bài tập ở **Câu 1** trong **file bài tập về chéo hóa** để thử lại chương trình đã viết trong câu 2.\n",
    "\n",
    "**4\\) Ứng dụng**\n",
    "\n",
    "Tìm hiểu và trình bày 1 ứng dụng của chéo hóa.\n",
    "\n",
    "Viết chương trình minh họa cho ứng dụng có sử dụng phần chéo hóa (dùng chương trình ở câu số 2 để sử dụng).\n",
    "\n",
    "**YÊU CẦU**\n",
    "+ Thực hiện toàn bộ bài làm trên 1 tập tin Jupyter Notebook (.ipynb).\n",
    "+ Thí sinh nộp tập tin gồm .ipynb và .pdf lên Moodle.\n",
    "\n",
    "**Ở phần đầu của file** cần có phần giới thiệu thông tin cá nhân: Họ tên, MSSV, lớp;\n",
    "\n",
    "Ghi chú ý nghĩa của từng hàm (mỗi hàm 1 lần, tại nơi đầu tiên xuất hiện hàm).\n",
    "\n",
    "**QUY ĐỊNH**\n",
    "\n",
    "Thí sinh bị 0 điểm trong các trường hợp sau:\n",
    "+ Nộp sai qui định;\n",
    "+ Thực thi mã nguồn báo lỗi;\n",
    "+ Chép bài của thí sinh khác hoặc cho thí sinh khác chép bài.\n",
    "+ Và các hình thức kỷ luật khác theo qui chế thi"
   ]
  },
  {
   "cell_type": "markdown",
   "metadata": {},
   "source": [
    "## **1. Trình bày giải thuật**"
   ]
  },
  {
   "cell_type": "markdown",
   "metadata": {},
   "source": [
    "Chéo hoá ma trận (Diagonalization) đối với 1 ma trận vuông $A$ cấp $n$ bất kỳ là quá trình tìm ra 1 **ma trận đường chéo** $D$ (nếu có) thoả $A = PDP^{-1}$, $P$ là một **ma trận nghịch đảo**.\n",
    "\n",
    "Giả sử ta có một ma trận vuông $A = (a_{ij}) \\in M_n(\\mathbb{R})$ và ta cần chéo hoá ma trận này, khi đó, thuật toán tìm sẽ gồm các bước như sau:\n",
    "\n",
    "> **Bước 1**. Giải phương trình $det(A - \\lambda I_n) = 0$, tìm ra $k$ nghiệm đôi một phân biệt nhau $x_1, x_2, ..., x_k$ ($k < n$) của phương trình này. <br>\n",
    "> **Bước 2**. Với mỗi nghiệm $x_i$, giải phương trình $(A - x_iI_n)v = 0$ để tìm một cơ sở trong không gian nghiệm của phương trình <br>\n",
    "> **Bước 3**. Gom tất cả các vector trong các cơ sở tìm được ở **Bước 2** theo thứ tự từ $x_1$ đến $x_k$ lại thành 1 bộ vector.\n",
    "> + Nếu bộ đó có ít hơn $n$ vector, trả về kết quả là **không thể chéo hoá ma trận**\n",
    "> + Nếu bộ đó có đúng $n$ vector, chuyển sang **Bước 4** \n",
    ">\n",
    "> **Bước 4**. Gọi $n$ vector tìm được trong bộ vector ở **Bước 3** là $v_1, v_2, ..., v_n$, kết luận **ma trận $A$ chéo hoá được**, đồng thời trả về 2 ma trận $D$ và $P$ như sau:\n",
    "> <center>\n",
    ">\n",
    "> $D = \\begin{bmatrix}\n",
    "x_1 & 0 & \\cdots & 0 \\\\\n",
    "0 & x_2 & \\cdots & 0 \\\\\n",
    "\\vdots & \\vdots & \\ddots & \\vdots \\\\\n",
    "0 & 0 & \\cdots & x_n\n",
    "\\end{bmatrix}\n",
    "$, \n",
    "$P = \n",
    "\\begin{bmatrix}\n",
    "v_1 & v_2 & \\cdots & v_n\n",
    "\\end{bmatrix}$\n",
    ">\n",
    "> </center>"
   ]
  },
  {
   "cell_type": "markdown",
   "metadata": {},
   "source": [
    "## **2. Import những thư viện cần thiết**"
   ]
  },
  {
   "cell_type": "code",
   "execution_count": 2,
   "metadata": {},
   "outputs": [],
   "source": [
    "#Import necessary libraries\n",
    "from sympy import Rational, Matrix, symbols, Expr, eye, Poly\n",
    "import numpy as np\n",
    "from IPython.display import display, Markdown"
   ]
  },
  {
   "cell_type": "markdown",
   "metadata": {},
   "source": [
    "## **3. Xây dựng những hàm hỗ trợ**"
   ]
  },
  {
   "cell_type": "code",
   "execution_count": 3,
   "metadata": {},
   "outputs": [],
   "source": [
    "#Support functions\n",
    "def isZero (x) -> bool:\n",
    "    \"\"\"\n",
    "    Because we are manipulating on float, so in many contexts, an equation can be theorically 0,\n",
    "    but the representation of the equation on computer is just close to 0\n",
    "    \n",
    "    So this function is created to handle these contexts\n",
    "    \"\"\"\n",
    "    return abs(x) < 1e-4\n",
    "\n",
    "def to_fraction(element):\n",
    "    \"\"\"\n",
    "    This function transforms a decimal number into a fraction, if it's a rational number\n",
    "    \"\"\"\n",
    "    return Rational(element).limit_denominator(100)\n",
    "\n",
    "def determinant (matrix: Matrix) -> Expr:\n",
    "    \"\"\"\n",
    "    This function helps to calculate the determinant of a matrix\n",
    "    \"\"\"\n",
    "    def getCofactors (matrix: Matrix, row: int, col: int) -> Matrix:\n",
    "        \"\"\"\n",
    "        This function helps to get a submatrix from the given matrix after removing elements in the given row and column (Cofactor)\n",
    "        \"\"\"\n",
    "        return Matrix([[matrix[i, j] for j in range (matrix.shape[1]) if j != col]\n",
    "                        for i in range (matrix.shape[0]) if i != row])\n",
    "    \n",
    "    if (matrix.shape[0] != matrix.shape[1]):\n",
    "        raise Exception (\"In the determinant function, the input matrix is not square\")\n",
    "    \n",
    "    size = matrix.shape[0]\n",
    "    if (size == 1):\n",
    "        return matrix[0, 0]\n",
    "    elif (size == 2):\n",
    "        return matrix[0, 0] * matrix[1, 1] - matrix[0, 1] * matrix[1, 0]\n",
    "    elif (size == 3):\n",
    "        result = matrix[0, 0] * (matrix[1, 1] * matrix[2, 2] - matrix[1, 2] * matrix[2, 1])\n",
    "        result = result - matrix[0, 1] * (matrix[1, 0] * matrix[2, 2] - matrix[1, 2] * matrix[2, 0])\n",
    "        result = result + matrix[0, 2] * (matrix[1, 0] * matrix[2, 1] - matrix[1, 1] * matrix[2, 0])\n",
    "        \n",
    "        return result\n",
    "    \n",
    "    result = 0\n",
    "    for col in range (size):\n",
    "        result += ((-1) ** col) * matrix[0, col] * determinant(getCofactors(matrix, 0, col))\n",
    "        \n",
    "    return result\n",
    "    \n",
    "def eigenvalues (matrix: Matrix) -> list[float]:\n",
    "    \"\"\"\n",
    "    This function helps to calculate all eigenvalues of a matrix (should use with matrices have all real eigenvalues)\n",
    "    \n",
    "    In this function, we first get all coefficients of the expression obtained from calculating det(A - xI)\n",
    "    Then I used np.roots, and handled computing errors before getting distinct eigenvalues for calculating eigenvectors afterthat.\n",
    "    \"\"\"\n",
    "    if (matrix.shape[0] != matrix.shape[1]):\n",
    "        raise Exception (\"In the eigenvalues function, the input matrix is not square\")\n",
    "    \n",
    "    size = matrix.shape[0]\n",
    "    X = symbols('x')\n",
    "    I = eye(size)\n",
    "    \n",
    "    equation = determinant(matrix - X * I)\n",
    "    expression = Poly(equation, X)\n",
    "    coefficients = expression.all_coeffs()\n",
    "    \n",
    "    temp = np.roots(coefficients)\n",
    "    solution = []\n",
    "    for element in temp:\n",
    "        real = element.real\n",
    "        imag = element.imag\n",
    "        \n",
    "        if (isZero(real - int(real))):\n",
    "            real = int(real)\n",
    "        elif (isZero(int(real) + 1 - real)):\n",
    "            real = int(real) + 1\n",
    "        elif (isZero(int(real) - 1 - real)):\n",
    "            real = int(real) - 1\n",
    "            \n",
    "        if (isZero(imag - int(imag))):\n",
    "            imag = int(imag)\n",
    "        elif (isZero(int(imag) + 1 - imag)):\n",
    "            imag = int(imag) + 1\n",
    "        elif (isZero(int(imag) - 1 - imag)):\n",
    "            imag = int(imag) - 1\n",
    "            \n",
    "        if (imag == 0):\n",
    "            solution.append(real)\n",
    "        else:\n",
    "            solution.append(complex(real, imag))\n",
    "            \n",
    "    return list(set(solution))\n",
    "\n",
    "def eigenvectors (matrix: Matrix, listEigenvalues: list[float]):\n",
    "    \"\"\"\n",
    "    This function helps to find all eigenvectors of a matrix.\n",
    "    I added the parameter eigenvalues because the eigenvalues were found before finding eigenvectors, and without adding it, \n",
    "    we will find eigenvalues again in this function -> Should be added.\n",
    "    \"\"\"\n",
    "    if (matrix.shape[0] != matrix.shape[1]):\n",
    "        raise Exception (\"In the eigenvectors function, the input matrix is not square\")\n",
    "    \n",
    "    listEigenvectors = []\n",
    "    size = matrix.shape[0]\n",
    "    I = eye(size)\n",
    "    \n",
    "    for eigenvalue in listEigenvalues:\n",
    "        tempMatrix = (matrix - eigenvalue * I).echelon_form()\n",
    "        temp = []\n",
    "        for i in range (tempMatrix.shape[0]):\n",
    "            tempRow = []\n",
    "            \n",
    "            for j in range (tempMatrix.shape[1]):\n",
    "                if (isZero(tempMatrix[i, j])):\n",
    "                    tempRow.append(0)\n",
    "                else:\n",
    "                    tempRow.append(tempMatrix[i, j])\n",
    "                    \n",
    "            temp.append(tempRow)\n",
    "        tempMatrix = Matrix(temp)\n",
    "        \n",
    "        listEigenvectors += [(vector, eigenvalue) for vector in tempMatrix.nullspace()]\n",
    "    \n",
    "    return listEigenvectors\n",
    "    \n",
    "def Diagonalization_Result_In_Markdown_Text (A: Matrix, P: Matrix, D: Matrix, P_Inv: Matrix):\n",
    "    \"\"\"\n",
    "    This function helps to write the result of eigendecomposition in Markdown text, then use display function and Markdown class\n",
    "    of IPython.display to print this Markdown text\n",
    "    \"\"\"\n",
    "    def Matrix_Markdown (matrix: Matrix):\n",
    "        text = \"$\\n\\\\begin{bmatrix}\\n\"\n",
    "        for row in range (matrix.shape[0]):\n",
    "            for col in range (matrix.shape[1]):\n",
    "                value = to_fraction(matrix[row, col])\n",
    "                square_value = to_fraction(matrix[row, col] * matrix[row, col])\n",
    "                if (isinstance(value, Rational) and isZero(matrix[row, col] * value.denominator - value.numerator)):\n",
    "                    if (value.denominator != 1):\n",
    "                        text += (\"-\" if matrix[row, col] < 0 and value.numerator != 0 else \"\") + \"\\\\frac\" + \"{\" + f\"{abs(value.numerator)}\" + \"}{\" + f\"{value.denominator}\" + \"}\"\n",
    "                    else:\n",
    "                        text += (\"-\" if matrix[row, col] < 0 and value.numerator != 0 else \"\") + f\"{abs(value.numerator)}\"\n",
    "                elif (isinstance(square_value, Rational) and isZero(matrix[row, col] * matrix[row, col] * square_value.denominator - square_value.numerator)):\n",
    "                    if (square_value.denominator != 1):\n",
    "                        text += (\"-\" if matrix[row, col] < 0 and value.numerator != 0 else \"\") + \"\\\\sqrt\" + \"{\" + \"\\\\frac\" + \"{\" + f\"{square_value.numerator}\" + \"}{\" + f\"{square_value.denominator}\" + \"}\"+ \"}\"\n",
    "                    else:\n",
    "                        text += (\"-\" if matrix[row, col] < 0 and value.numerator != 0 else \"\") + \"\\\\sqrt\" + \"{\" + f\"{square_value.numerator}\" + \"}\"\n",
    "                else:\n",
    "                    text += f\"{matrix[row, col]}\"\n",
    "                    \n",
    "                if (col != matrix.shape[1] - 1):\n",
    "                    text += \" & \"\n",
    "                else:\n",
    "                    text += \" \\\\\\\\ \\n\"  \n",
    "        \n",
    "        text += \"\\end{bmatrix}\\n$\"\n",
    "        \n",
    "        return text\n",
    "    \n",
    "    text = Matrix_Markdown(A)  \n",
    "    text += \"\\n $=$\\n\"\n",
    "    text += Matrix_Markdown(P)\n",
    "    text += \" \\n\"\n",
    "    text += Matrix_Markdown(D)\n",
    "    text += \" \\n\"\n",
    "    text += Matrix_Markdown(P_Inv)\n",
    "    \n",
    "    return text"
   ]
  },
  {
   "cell_type": "markdown",
   "metadata": {},
   "source": [
    "## **4. Xây dựng giải thuật chéo hoá**"
   ]
  },
  {
   "cell_type": "code",
   "execution_count": 4,
   "metadata": {},
   "outputs": [],
   "source": [
    "def diagonalize (matrix: Matrix) -> tuple[Matrix, Matrix]:\n",
    "    \"\"\"\n",
    "    This function helps to diagonalize a matrix\n",
    "    \"\"\"\n",
    "    if (matrix.shape[0] != matrix.shape[1]):\n",
    "        raise Exception (\"In the diagonalize function, the input matrix is not square\")\n",
    "    \n",
    "    size = matrix.shape[0]\n",
    "    \n",
    "    #! Find all eigenvalues of the matrix\n",
    "    listEigenvalues = eigenvalues(matrix)\n",
    "    \n",
    "    #! Find all eigenvectors of the matrix\n",
    "    listEigenvectors = eigenvectors(matrix, listEigenvalues)\n",
    "    \n",
    "    if (len(listEigenvectors) != size):\n",
    "        return None\n",
    "    \n",
    "    P = Matrix([[listEigenvectors[i][0][j] for i in range (size)] for j in range(size)])\n",
    "    D = Matrix([[int(i == j) * listEigenvectors[i][1] for j in range (size)] for i in range (size)])\n",
    "    \n",
    "    return P, D"
   ]
  },
  {
   "cell_type": "markdown",
   "metadata": {},
   "source": [
    "## **5. Kiểm tra chương trình**"
   ]
  },
  {
   "cell_type": "code",
   "execution_count": 5,
   "metadata": {},
   "outputs": [],
   "source": [
    "C1 = [[-1, 3],\n",
    "      [2, 4]]\n",
    "\n",
    "C2 = [[5, 2],\n",
    "      [9, 2]]\n",
    "\n",
    "C3 = [[1, -1, -1],\n",
    "      [1, 3, 1], \n",
    "      [-3, 1, -1]]\n",
    "\n",
    "C4 = [[5, -1, 1],\n",
    "      [-1, 2, -2],\n",
    "      [1, -2, 2]]\n",
    "\n",
    "C5 = [[1, 3, 3],\n",
    "      [-3, -5, -3],\n",
    "      [3, 3, 1]]\n",
    "\n",
    "C6 = [[4, 0, -1],\n",
    "      [0, 3, 0],\n",
    "      [1, 0, 2]]\n",
    "\n",
    "C7 = [[3, 4, -4],\n",
    "      [-2, -1, 2],\n",
    "      [-2, 0, 1]]\n",
    "\n",
    "C8 = [[0, 0, -2],\n",
    "      [1, 2, 1],\n",
    "      [1, 0, 3]]\n",
    "\n",
    "C9 = [[1, 0, 0],\n",
    "      [1, 2, 0],\n",
    "      [-3, 5, 2]]\n",
    "\n",
    "C10 = [[4, 0, 1],\n",
    "       [-2, 1, 0],\n",
    "       [-2, 0, 1]]\n",
    "\n",
    "testList = [C1, C2, C3, C4, C5, C6, C7, C8, C9, C10]"
   ]
  },
  {
   "cell_type": "code",
   "execution_count": 6,
   "metadata": {},
   "outputs": [
    {
     "name": "stdout",
     "output_type": "stream",
     "text": [
      "Câu 1:\n"
     ]
    },
    {
     "data": {
      "text/markdown": [
       "$\n",
       "\\begin{bmatrix}\n",
       "-1 & 3 \\\\ \n",
       "2 & 4 \\\\ \n",
       "\\end{bmatrix}\n",
       "$\n",
       " $=$\n",
       "$\n",
       "\\begin{bmatrix}\n",
       "\\frac{1}{2} & -3 \\\\ \n",
       "1 & 1 \\\\ \n",
       "\\end{bmatrix}\n",
       "$ \n",
       "$\n",
       "\\begin{bmatrix}\n",
       "5 & 0 \\\\ \n",
       "0 & -2 \\\\ \n",
       "\\end{bmatrix}\n",
       "$ \n",
       "$\n",
       "\\begin{bmatrix}\n",
       "\\frac{2}{7} & \\frac{6}{7} \\\\ \n",
       "-\\frac{2}{7} & \\frac{1}{7} \\\\ \n",
       "\\end{bmatrix}\n",
       "$"
      ],
      "text/plain": [
       "<IPython.core.display.Markdown object>"
      ]
     },
     "metadata": {},
     "output_type": "display_data"
    },
    {
     "name": "stdout",
     "output_type": "stream",
     "text": [
      "Câu 2:\n"
     ]
    },
    {
     "data": {
      "text/markdown": [
       "$\n",
       "\\begin{bmatrix}\n",
       "5 & 2 \\\\ \n",
       "9 & 2 \\\\ \n",
       "\\end{bmatrix}\n",
       "$\n",
       " $=$\n",
       "$\n",
       "\\begin{bmatrix}\n",
       "\\frac{2}{3} & -\\frac{1}{3} \\\\ \n",
       "1 & 1 \\\\ \n",
       "\\end{bmatrix}\n",
       "$ \n",
       "$\n",
       "\\begin{bmatrix}\n",
       "8 & 0 \\\\ \n",
       "0 & -1 \\\\ \n",
       "\\end{bmatrix}\n",
       "$ \n",
       "$\n",
       "\\begin{bmatrix}\n",
       "1 & \\frac{1}{3} \\\\ \n",
       "-1 & \\frac{2}{3} \\\\ \n",
       "\\end{bmatrix}\n",
       "$"
      ],
      "text/plain": [
       "<IPython.core.display.Markdown object>"
      ]
     },
     "metadata": {},
     "output_type": "display_data"
    },
    {
     "name": "stdout",
     "output_type": "stream",
     "text": [
      "Câu 3:\n"
     ]
    },
    {
     "data": {
      "text/markdown": [
       "$\n",
       "\\begin{bmatrix}\n",
       "1 & -1 & -1 \\\\ \n",
       "1 & 3 & 1 \\\\ \n",
       "-3 & 1 & -1 \\\\ \n",
       "\\end{bmatrix}\n",
       "$\n",
       " $=$\n",
       "$\n",
       "\\begin{bmatrix}\n",
       "-1 & -1 & \\frac{1}{4} \\\\ \n",
       "0 & 1 & -\\frac{1}{4} \\\\ \n",
       "1 & 1 & 1 \\\\ \n",
       "\\end{bmatrix}\n",
       "$ \n",
       "$\n",
       "\\begin{bmatrix}\n",
       "2 & 0 & 0 \\\\ \n",
       "0 & 3 & 0 \\\\ \n",
       "0 & 0 & -2 \\\\ \n",
       "\\end{bmatrix}\n",
       "$ \n",
       "$\n",
       "\\begin{bmatrix}\n",
       "-1 & -1 & 0 \\\\ \n",
       "\\frac{1}{5} & 1 & \\frac{1}{5} \\\\ \n",
       "\\frac{4}{5} & 0 & \\frac{4}{5} \\\\ \n",
       "\\end{bmatrix}\n",
       "$"
      ],
      "text/plain": [
       "<IPython.core.display.Markdown object>"
      ]
     },
     "metadata": {},
     "output_type": "display_data"
    },
    {
     "name": "stdout",
     "output_type": "stream",
     "text": [
      "Câu 4:\n"
     ]
    },
    {
     "data": {
      "text/markdown": [
       "$\n",
       "\\begin{bmatrix}\n",
       "5 & -1 & 1 \\\\ \n",
       "-1 & 2 & -2 \\\\ \n",
       "1 & -2 & 2 \\\\ \n",
       "\\end{bmatrix}\n",
       "$\n",
       " $=$\n",
       "$\n",
       "\\begin{bmatrix}\n",
       "0 & -1 & 2 \\\\ \n",
       "1 & -1 & -1 \\\\ \n",
       "1 & 1 & 1 \\\\ \n",
       "\\end{bmatrix}\n",
       "$ \n",
       "$\n",
       "\\begin{bmatrix}\n",
       "0 & 0 & 0 \\\\ \n",
       "0 & 3 & 0 \\\\ \n",
       "0 & 0 & 6 \\\\ \n",
       "\\end{bmatrix}\n",
       "$ \n",
       "$\n",
       "\\begin{bmatrix}\n",
       "0 & \\frac{1}{2} & \\frac{1}{2} \\\\ \n",
       "-\\frac{1}{3} & -\\frac{1}{3} & \\frac{1}{3} \\\\ \n",
       "\\frac{1}{3} & -\\frac{1}{6} & \\frac{1}{6} \\\\ \n",
       "\\end{bmatrix}\n",
       "$"
      ],
      "text/plain": [
       "<IPython.core.display.Markdown object>"
      ]
     },
     "metadata": {},
     "output_type": "display_data"
    },
    {
     "name": "stdout",
     "output_type": "stream",
     "text": [
      "Câu 5:\n"
     ]
    },
    {
     "data": {
      "text/markdown": [
       "$\n",
       "\\begin{bmatrix}\n",
       "1 & 3 & 3 \\\\ \n",
       "-3 & -5 & -3 \\\\ \n",
       "3 & 3 & 1 \\\\ \n",
       "\\end{bmatrix}\n",
       "$\n",
       " $=$\n",
       "$\n",
       "\\begin{bmatrix}\n",
       "1 & -1 & -1 \\\\ \n",
       "-1 & 1 & 0 \\\\ \n",
       "1 & 0 & 1 \\\\ \n",
       "\\end{bmatrix}\n",
       "$ \n",
       "$\n",
       "\\begin{bmatrix}\n",
       "1 & 0 & 0 \\\\ \n",
       "0 & -2 & 0 \\\\ \n",
       "0 & 0 & -2 \\\\ \n",
       "\\end{bmatrix}\n",
       "$ \n",
       "$\n",
       "\\begin{bmatrix}\n",
       "1 & 1 & 1 \\\\ \n",
       "1 & 2 & 1 \\\\ \n",
       "-1 & -1 & 0 \\\\ \n",
       "\\end{bmatrix}\n",
       "$"
      ],
      "text/plain": [
       "<IPython.core.display.Markdown object>"
      ]
     },
     "metadata": {},
     "output_type": "display_data"
    },
    {
     "name": "stdout",
     "output_type": "stream",
     "text": [
      "Câu 6:\n",
      "Defective matrix\n",
      "Câu 7:\n"
     ]
    },
    {
     "data": {
      "text/markdown": [
       "$\n",
       "\\begin{bmatrix}\n",
       "3 & 4 & -4 \\\\ \n",
       "-2 & -1 & 2 \\\\ \n",
       "-2 & 0 & 1 \\\\ \n",
       "\\end{bmatrix}\n",
       "$\n",
       " $=$\n",
       "$\n",
       "\\begin{bmatrix}\n",
       "0 & -1 & 1 \\\\ \n",
       "1 & 1 & 0 \\\\ \n",
       "1 & 1 & 1 \\\\ \n",
       "\\end{bmatrix}\n",
       "$ \n",
       "$\n",
       "\\begin{bmatrix}\n",
       "1 & 0 & 0 \\\\ \n",
       "0 & 3 & 0 \\\\ \n",
       "0 & 0 & -1 \\\\ \n",
       "\\end{bmatrix}\n",
       "$ \n",
       "$\n",
       "\\begin{bmatrix}\n",
       "1 & 2 & -1 \\\\ \n",
       "-1 & -1 & 1 \\\\ \n",
       "0 & -1 & 1 \\\\ \n",
       "\\end{bmatrix}\n",
       "$"
      ],
      "text/plain": [
       "<IPython.core.display.Markdown object>"
      ]
     },
     "metadata": {},
     "output_type": "display_data"
    },
    {
     "name": "stdout",
     "output_type": "stream",
     "text": [
      "Câu 8:\n"
     ]
    },
    {
     "data": {
      "text/markdown": [
       "$\n",
       "\\begin{bmatrix}\n",
       "0 & 0 & -2 \\\\ \n",
       "1 & 2 & 1 \\\\ \n",
       "1 & 0 & 3 \\\\ \n",
       "\\end{bmatrix}\n",
       "$\n",
       " $=$\n",
       "$\n",
       "\\begin{bmatrix}\n",
       "-2 & 0 & -1 \\\\ \n",
       "1 & 1 & 0 \\\\ \n",
       "1 & 0 & 1 \\\\ \n",
       "\\end{bmatrix}\n",
       "$ \n",
       "$\n",
       "\\begin{bmatrix}\n",
       "1 & 0 & 0 \\\\ \n",
       "0 & 2 & 0 \\\\ \n",
       "0 & 0 & 2 \\\\ \n",
       "\\end{bmatrix}\n",
       "$ \n",
       "$\n",
       "\\begin{bmatrix}\n",
       "-1 & 0 & -1 \\\\ \n",
       "1 & 1 & 1 \\\\ \n",
       "1 & 0 & 2 \\\\ \n",
       "\\end{bmatrix}\n",
       "$"
      ],
      "text/plain": [
       "<IPython.core.display.Markdown object>"
      ]
     },
     "metadata": {},
     "output_type": "display_data"
    },
    {
     "name": "stdout",
     "output_type": "stream",
     "text": [
      "Câu 9:\n",
      "Defective matrix\n",
      "Câu 10:\n"
     ]
    },
    {
     "data": {
      "text/markdown": [
       "$\n",
       "\\begin{bmatrix}\n",
       "4 & 0 & 1 \\\\ \n",
       "-2 & 1 & 0 \\\\ \n",
       "-2 & 0 & 1 \\\\ \n",
       "\\end{bmatrix}\n",
       "$\n",
       " $=$\n",
       "$\n",
       "\\begin{bmatrix}\n",
       "0 & -\\frac{1}{2} & -1 \\\\ \n",
       "1 & 1 & 1 \\\\ \n",
       "0 & 1 & 1 \\\\ \n",
       "\\end{bmatrix}\n",
       "$ \n",
       "$\n",
       "\\begin{bmatrix}\n",
       "1 & 0 & 0 \\\\ \n",
       "0 & 2 & 0 \\\\ \n",
       "0 & 0 & 3 \\\\ \n",
       "\\end{bmatrix}\n",
       "$ \n",
       "$\n",
       "\\begin{bmatrix}\n",
       "0 & 1 & -1 \\\\ \n",
       "2 & 0 & 2 \\\\ \n",
       "-2 & 0 & -1 \\\\ \n",
       "\\end{bmatrix}\n",
       "$"
      ],
      "text/plain": [
       "<IPython.core.display.Markdown object>"
      ]
     },
     "metadata": {},
     "output_type": "display_data"
    }
   ],
   "source": [
    "for i, test in enumerate(testList):\n",
    "    print(f\"Câu {i + 1}:\")\n",
    "    \n",
    "    result = diagonalize(Matrix(test))\n",
    "    if (result is None):\n",
    "        print(\"Defective matrix\")\n",
    "    else:\n",
    "        P, D = result\n",
    "\n",
    "        text = Diagonalization_Result_In_Markdown_Text(Matrix(test), P, D, P.inv())\n",
    "        display(Markdown(text))"
   ]
  },
  {
   "cell_type": "markdown",
   "metadata": {},
   "source": [
    "## **6. Ứng dụng của chéo hoá: PCA và giảm chiều dữ liệu**"
   ]
  },
  {
   "cell_type": "markdown",
   "metadata": {},
   "source": [
    "Một trong những điểm thú vị của giải thuật chéo hoá chính là ý tưởng của nó trong các vấn đề ứng dụng, một trong số những ứng dụng tiêu biểu đó chính là giải thuật **PCA (Principal Component Analysis)**, được đề xuất bởi 2 nhà toán học Pearson (1901) và Hotelling (1933). \n",
    "\n",
    "Giải thuật này góp phần quan trọng vào việc **giảm chiều dữ liệu** mà **không làm mất quá nhiều thông tin**, là một bước rất quan trọng trong khâu **tiền xử lý dữ liệu (Data Preprocessing)** để có thể **tránh trực tiếp làm việc với dữ liệu lớn nhiều chiều** mà vẫn có thể đảm bảo độ chính xác của mô hình và có thể **trực quan hoá dữ liệu**. \n",
    "\n",
    "Ngoài ra, **PCA** cũng được dùng trong nhiều ứng dụng khác như: Nén dữ liệu, giảm nhiễu, ... \n",
    "\n",
    "Nói về sự liên quan giữa **PCA** và **chéo hoá**, chúng ta xét 1 bộ dữ liệu $X = \\{x_1, x_2, ..., x_N\\}, x_n \\in \\mathbb{R}^D$ với trung bình $\\mu$. khi đó, **ma trận hiệp phương sai** của dữ liệu sẽ là:\n",
    "\n",
    "<center>\n",
    "\n",
    "$$S = \\frac{1}{N} \\sum_{n = 1}^{N} (x_n - \\mu)(x_n - \\mu)^T$$\n",
    "\n",
    "</center>\n",
    "\n",
    "Hơn thế nữa, giả sử rằng tồn tại 1 **ma trận chiếu (projection matrix)** $B = \\begin{bmatrix} b_1 & b_2 & \\cdots & b_m \\end{bmatrix} \\in \\mathbb{R}^{M x D}$ sao cho với mỗi $x_n$, ta có: $z_n = B^Tx_n$ là toạ độ của $x_n$ trên mặt phẳng M chiều tạo bởi M vector $b_1, b_2, ..., b_m$. Đồng thời, ta cũng giả sử rằng $B$ là **ma trận trực giao**.\n",
    "\n",
    "Ta đã biết **PCA** là môt thuật toán giảm chiều dữ liệu nhưng vẫn cố gắng giữ lại càng nhiều thông tin càng tốt. Việc giữ lại càng nhiều thông tin khi đã chiếu dữ liệu lên một không gian ít chiều hơn có thể đưa bài toán **PCA** trở về với vấn đề sau: **Làm sao để chọn được ma trận $B$ sao cho tổng phương sai của dữ liệu trên mặt phẳng chiếu là lớn nhất**, hay nói cách khác, *sự mất mát về tổng phương sai dữ liệu so với dữ liệu ban đầu là nhỏ nhất*. Ở đây, ta sẽ nhìn bài toán **PCA** theo góc nhìn thứ nhất: **tối đa hoá phương sai dữ liệu trên mặt phẳng ít chiều hơn**, tức là tối đa hoá $\\mathbb{V}[Z]$\n",
    "\n",
    "Ta có thể giả sử rằng giá trị trung bình $\\mu = 0$, lý do là vì:\n",
    "\n",
    "<center>\n",
    "\n",
    "$\\mathbb{V}[Z] = \\mathbb{V}[B^T(X - \\mu)] = \\mathbb{V}[B^TX - B^T\\mu] = \\mathbb{V}[B^TX]$\n",
    "\n",
    "</center>\n",
    "\n",
    "Điều này chứng tỏ rằng giá trị $\\mathbb{V}[Z]$ không phụ thuộc vào $\\mu$, nên ta có thể giả sử $\\mu = 0$ để:\n",
    "\n",
    "<center>\n",
    "\n",
    "$\\mathbb{E}[Z] = \\mathbb{E}[B^TX] = \\mathbb{E}[B^T]\\mu = 0$\n",
    "\n",
    "</center>\n",
    "\n",
    "tức giá trị trung bình của dữ liệu là như nhau khi chiếu trên các không gian khác nhau.\n",
    "\n",
    "Tại chương 10, mục 10.2 của nguồn tham khảo $^{[3]}$ có đề cập đến mối liên quan giữa **chéo hoá** và sự cực đại hoá của giá trị tổng phương sai. Kết quả thu được có thể được phát biểu ngắn gọn là:\n",
    "\n",
    "> Để tìm $max\\mathbb{V}[Z]$, các vector $b_1, b_2, ..., b_M$ của ma trận B sẽ là các **vector riêng** tương ứng với $M$ **trị riêng lớn nhất** $\\lambda_1, \\lambda_2, ..., \\lambda_M$ của **ma trận hiệp phương sai** $S$. Các vector này thu được sau khi **chéo hoá trực giao** ma trận $S$ (vì $S$ là **ma trận đối xứng**). Đồng thời, \n",
    "\n",
    "<center>\n",
    "\n",
    "$$max\\mathbb{V}[Z] = \\sum_{i = 1}^{M} \\lambda_i$$\n",
    "\n",
    "</center>\n",
    "\n",
    "Từ kết quả này, ta thấy rằng **tỷ lệ giữ thông tin tối đa** khi chiếu dữ liệu lên không gian ít chiều hơn sẽ là:\n",
    "\n",
    "<center>\n",
    "\n",
    "$$\\frac{\\sum_{i = 1}^{M} \\lambda_i}{\\sum_{i = 1}^{D} \\lambda_i}$$\n",
    "\n",
    "</center>\n",
    "\n",
    "Điều lưu ý cuối cùng Khi triển khai thuật toán đối với 1 tập dữ liệu bất kỳ đó là việc **chuẩn hoá (normalize)** dữ liệu, đối với thuật toán **PCA**, thông thường ta sẽ chuẩn hoá bằng cách gán:\n",
    "\n",
    "<center>\n",
    "\n",
    "$X \\leftarrow \\frac{X - \\mu}{\\sigma}$\n",
    "\n",
    "</center>\n",
    "\n",
    "nhằm đưa dữ liệu về dạng chuẩn với trung bình là $\\mathbb{0}$ và độ lệch chuẩn là $\\mathbb{1}$\n",
    "\n",
    "Phía dưới phần trình bày là code của em dựa trên những gì em trình bày, đồng thời, em cũng sử dụng bộ **data Iris** của thư viện *scikit-learn* để test (tham khảo nguồn $^{[1]}$) và **trực quan hoá 3D** đối với dữ liệu sau khi giảm chiều (tham khảo nguồn $^{[2]}$)"
   ]
  },
  {
   "cell_type": "code",
   "execution_count": 74,
   "metadata": {},
   "outputs": [],
   "source": [
    "class PCA:\n",
    "    def __init__ (self, numComponents: int):\n",
    "        self.numComponents = numComponents\n",
    "        self.eigenvalues = None\n",
    "        self.eigenvectors = None\n",
    "        self.D = None\n",
    "        \n",
    "    def fit_transform (self, data: np.array):\n",
    "        \"\"\"\n",
    "        This function helps to fit the data into the PCA model for dimensionality reduction\n",
    "        Then, the data will be transform as a projection data on a subspace M-dimensions, M is the number of principal components\n",
    "        \n",
    "        The data should be a N x D matrix\n",
    "        N: Number of samples\n",
    "        D: Number of features\n",
    "        \"\"\"\n",
    "        def orthogonallyDiagonalize (symmetricMatrix: np.array):\n",
    "            P, D = diagonalize(Matrix(symmetricMatrix))\n",
    "            P, D = np.array(P), np.array(D)\n",
    "            \n",
    "            Q, _ = np.linalg.qr(P)\n",
    "            \n",
    "            listEigenvalues = np.array([D[i, i] for i in range (len(D))])\n",
    "            listEigenvectors = Q.T\n",
    "            \n",
    "            return listEigenvalues, listEigenvectors\n",
    "        \n",
    "        #! Copy the data\n",
    "        X = np.copy(data)\n",
    "        \n",
    "        #! Get the number of features and samples\n",
    "        N = len(X)\n",
    "        D = len(X[0])\n",
    "        self.D = D\n",
    "        \n",
    "        #! Standardization\n",
    "        mean = sum(X) / N\n",
    "        standardDeviation = (sum((X - mean) ** 2) / N) ** 0.5\n",
    "        X_standard = ((X - mean) / standardDeviation).T\n",
    "        \n",
    "        #! Get the data covariance matrix\n",
    "        covarianceMatrix = (X_standard @ X_standard.T) / N\n",
    "        \n",
    "        #! Diagonalize the covariance matrix, get eigenvalues and corresponding eigenvectors and rearrange them\n",
    "        eigenvalues, eigenvectors = orthogonallyDiagonalize(covarianceMatrix)\n",
    "        \n",
    "        eigen_pairs = [(eigenvalues[i], eigenvectors[i]) for i in range (len(eigenvalues))]\n",
    "        eigen_pairs.sort(key = lambda x: x[0], reverse = True)\n",
    "        \n",
    "        self.eigenvalues = np.array([float(pair[0]) for pair in eigen_pairs])\n",
    "        self.eigenvectors = np.array([np.array(pair[1]) for pair in eigen_pairs])\n",
    "        \n",
    "        #! Choose principal components and get the projection matrix\n",
    "        principalComponents = self.eigenvectors[:min(self.numComponents, D)]\n",
    "        projectionMatrix = principalComponents.T\n",
    "        \n",
    "        #! Return the data after dimensionality reduction\n",
    "        transformedData = X_standard.T @ projectionMatrix\n",
    "        return transformedData\n",
    "    \n",
    "    def ratio_captured_info (self):\n",
    "        \"\"\"\n",
    "        This function helps to calculate the rate of information captured after dimensionality reduction\n",
    "        \"\"\"\n",
    "        if (self.eigenvalues is None):\n",
    "            raise Exception (\"Please fit the data into the class PCA\")\n",
    "        \n",
    "        return np.sum(self.eigenvalues[:min(self.numComponents, self.D)]) / np.sum(self.eigenvalues)"
   ]
  },
  {
   "cell_type": "code",
   "execution_count": 75,
   "metadata": {},
   "outputs": [
    {
     "name": "stdout",
     "output_type": "stream",
     "text": [
      "X_shape: (150, 4)\n"
     ]
    }
   ],
   "source": [
    "from sklearn.datasets import load_iris\n",
    "\n",
    "iris = load_iris()\n",
    "X = iris['data']\n",
    "y = iris['target']\n",
    "\n",
    "print(\"X_shape:\", X.shape)"
   ]
  },
  {
   "cell_type": "code",
   "execution_count": 76,
   "metadata": {},
   "outputs": [
    {
     "name": "stdout",
     "output_type": "stream",
     "text": [
      "X_projected shape: (150, 3)\n"
     ]
    }
   ],
   "source": [
    "pca = PCA(numComponents = 3)\n",
    "X_proj = pca.fit_transform(X)\n",
    "\n",
    "print(\"X_projected shape:\", X_proj.shape)"
   ]
  },
  {
   "cell_type": "code",
   "execution_count": 77,
   "metadata": {},
   "outputs": [
    {
     "data": {
      "image/png": "[encoded data removed]",
      "text/plain": [
       "<Figure size 600x600 with 1 Axes>"
      ]
     },
     "metadata": {},
     "output_type": "display_data"
    }
   ],
   "source": [
    "import matplotlib.pyplot as plt \n",
    "\n",
    "fig = plt.figure(figsize = (6,6))\n",
    "\n",
    "# choose projection 3d for creating a 3d graph\n",
    "axis = fig.add_subplot(111, projection='3d')\n",
    " \n",
    "axis.scatter(X_proj[:,0], X_proj[:,1], X_proj[:,2], c = y, cmap = 'plasma')\n",
    "\n",
    "axis.set_xlabel(\"PC1\", fontsize = 14, labelpad = -12, rotation = -22)\n",
    "axis.set_xticks([])\n",
    "axis.set_ylabel(\"PC2\", fontsize = 14, labelpad = -12, rotation = 55)\n",
    "axis.set_yticks([])\n",
    "axis.set_zlabel(\"PC3\", fontsize = 14, labelpad = -12, rotation = 90)\n",
    "axis.set_zticks([])\n",
    "\n",
    "axis.set_title(f\"3 components, captures {pca.ratio_captured_info().round(4) * 100}% of total variation\");"
   ]
  },
  {
   "cell_type": "markdown",
   "metadata": {},
   "source": [
    "## **7. Tài liệu tham khảo**\n",
    "[1] [Geeksforgeeks - Implementing PCA in Python with scikit-learn](https://www.geeksforgeeks.org/implementing-pca-in-python-with-scikit-learn/)\n",
    "\n",
    "[2] [Alireza Bagheri - PCA from sratch](https://bagheri365.github.io/blog/Principal-Component-Analysis-from-Scratch/?fbclid=IwZXh0bgNhZW0CMTEAAR1PfukN5FYg1q6SEb2vIGE4gnJJXpNnrlWpSdrgLOyBeaWEcPGgSMocaxo_aem_T1okyyA24PcCmFirA9gQcg)\n",
    "\n",
    "[3] [Marc Peter Deisenroth - A. Aldo Faisal - Cheng Soon Ong - Mathematics for Machine Learning](https://mml-book.github.io/book/mml-book.pdf)"
   ]
  }
 ],
 "metadata": {
  "kernelspec": {
   "display_name": "Python 3 (ipykernel)",
   "language": "python",
   "name": "python3"
  },
  "language_info": {
   "codemirror_mode": {
    "name": "ipython",
    "version": 3
   },
   "file_extension": ".py",
   "mimetype": "text/x-python",
   "name": "python",
   "nbconvert_exporter": "python",
   "pygments_lexer": "ipython3",
   "version": "3.10.-1"
  }
 },
 "nbformat": 4,
 "nbformat_minor": 4
}
